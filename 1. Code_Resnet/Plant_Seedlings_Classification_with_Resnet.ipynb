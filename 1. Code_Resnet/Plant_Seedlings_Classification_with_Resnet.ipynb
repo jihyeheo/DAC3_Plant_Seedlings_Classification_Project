{
 "cells": [
  {
   "cell_type": "markdown",
   "metadata": {},
   "source": [
    "# Plant Seedlings Classification\n",
    "- The goal of the competition is to create a classifier capable of determining a plant's species from a photo.\n",
    "- [Plant Seedlings Classification], https://www.kaggle.com/c/plant-seedlings-classification/overview\n",
    "- Train accuracy: 86.25%, Val accuracy: 80%\n",
    "    \n",
    "### Reference\n",
    "- [coding-practice by osterburg], 'https://github.com/osterburg/coding-practice'    "
   ]
  },
  {
   "cell_type": "markdown",
   "metadata": {},
   "source": [
    "## 0. Import Packages"
   ]
  },
  {
   "cell_type": "code",
   "execution_count": 2,
   "metadata": {},
   "outputs": [],
   "source": [
    "from __future__ import absolute_import\n",
    "from __future__ import division\n",
    "from __future__ import print_function\n",
    "\n",
    "import os\n",
    "import sys\n",
    "import tarfile\n",
    "import glob\n",
    "from six.moves import urllib\n",
    "import random\n",
    "import shutil\n",
    "from PIL import Image\n",
    "import imageio\n",
    "from PIL import Image, ImageOps\n",
    "# from scipy.misc import imresize\n",
    "from sklearn.model_selection import train_test_split\n",
    "from sklearn.preprocessing import LabelBinarizer\n",
    "\n",
    "import keras\n",
    "from keras.models import Sequential\n",
    "from keras.layers import Dense, Dropout, Flatten\n",
    "from keras.layers.convolutional import Conv2D, MaxPooling2D\n",
    "from keras.models import load_model\n",
    "import tensorflow.compat.v1 as tf\n",
    "tf.disable_v2_behavior()\n",
    "\n",
    "import numpy as np\n",
    "import pandas as pd\n",
    "import matplotlib\n",
    "import matplotlib.pyplot as plt"
   ]
  },
  {
   "cell_type": "markdown",
   "metadata": {},
   "source": [
    "## 1. Load Dataset\n",
    "- Convert PNG to JPG"
   ]
  },
  {
   "cell_type": "code",
   "execution_count": 3,
   "metadata": {},
   "outputs": [],
   "source": [
    "def convert_jpg(dir, save_dir):\n",
    "    \n",
    "    data = []\n",
    "    cat_list = os.listdir(dir)\n",
    "    cat_len = len(os.listdir(dir))\n",
    "    \n",
    "    for cat in cat_list :\n",
    "        \n",
    "        category = os.listdir(dir + cat)\n",
    "        i = 0\n",
    "        for name in category :\n",
    "            png = imageio.imread(dir + cat + '/' + name)\n",
    "            png = Image.fromarray(png)\n",
    "            png.load()  # for splitting\n",
    "\n",
    "            # convert RGBA to RGB -> alpha channel\n",
    "            if(len(png.split()) == 4):\n",
    "                img = Image.new('RGB', png.size, (255, 255, 255)) # white\n",
    "                img.paste(png, mask = png.split()[3])\n",
    "            else:\n",
    "                img = png\n",
    "\n",
    "            img.save(save_dir + cat + '/' + str(i) + '.jpg')\n",
    "            i += 1"
   ]
  },
  {
   "cell_type": "code",
   "execution_count": 4,
   "metadata": {},
   "outputs": [
    {
     "name": "stdout",
     "output_type": "stream",
     "text": [
      "The number of category : 12\n",
      "['Black-grass', 'Charlock', 'Cleavers', 'Common Chickweed', 'Common wheat', 'Fat Hen', 'Loose Silky-bent', 'Maize', 'Scentless Mayweed', 'Shepherds Purse', 'Small-flowered Cranesbill', 'Sugar beet']\n"
     ]
    }
   ],
   "source": [
    "# dir = \"train/\"\n",
    "# cat_list = os.listdir(dir)\n",
    "# cat_len = len(os.listdir(dir))\n",
    "\n",
    "# print(\"The number of category :\",cat_len)\n",
    "# print(cat_list)"
   ]
  },
  {
   "cell_type": "code",
   "execution_count": 5,
   "metadata": {},
   "outputs": [],
   "source": [
    "# # Convert png to jpg\n",
    "# dir = \"train/\"\n",
    "# save_dir = \"train_jpg/\"\n",
    "# convert_jpg(dir, save_dir)"
   ]
  },
  {
   "cell_type": "markdown",
   "metadata": {},
   "source": [
    "## 2. Make Dataset"
   ]
  },
  {
   "cell_type": "code",
   "execution_count": 10,
   "metadata": {},
   "outputs": [],
   "source": [
    "# params\n",
    "batch_size = 32\n",
    "num_classes = 12\n",
    "epochs = 50"
   ]
  },
  {
   "cell_type": "code",
   "execution_count": 11,
   "metadata": {},
   "outputs": [],
   "source": [
    "preprocessing_image = tf.keras.preprocessing.image\n",
    "\n",
    "train_datagen = preprocessing_image.ImageDataGenerator(\n",
    "    rescale=1./255,\n",
    "    shear_range=0.1,\n",
    "    zoom_range=0.1,\n",
    "    horizontal_flip=True)\n",
    "\n",
    "val_datagen = preprocessing_image.ImageDataGenerator(rescale=1./255)"
   ]
  },
  {
   "cell_type": "code",
   "execution_count": 12,
   "metadata": {},
   "outputs": [
    {
     "name": "stdout",
     "output_type": "stream",
     "text": [
      "Found 3803 images belonging to 12 classes.\n",
      "Found 947 images belonging to 12 classes.\n"
     ]
    }
   ],
   "source": [
    "BASE_DIR = os.getcwd()\n",
    "\n",
    "train_generator = train_datagen.flow_from_directory(\n",
    "    os.path.join(BASE_DIR, \"train_jpg/train\"),\n",
    "    target_size=(32, 32),\n",
    "    batch_size=batch_size,\n",
    "    class_mode='categorical')\n",
    "\n",
    "validation_generator = val_datagen.flow_from_directory(\n",
    "    os.path.join(BASE_DIR, \"train_jpg/validation\"),\n",
    "    target_size=(32, 32),\n",
    "    batch_size=batch_size,\n",
    "    class_mode='categorical')"
   ]
  },
  {
   "cell_type": "markdown",
   "metadata": {},
   "source": [
    "## 3. Resnet (Deep Residual Neural Network)\n",
    "- Pre-activation Bottleneck Residual Block"
   ]
  },
  {
   "cell_type": "code",
   "execution_count": 13,
   "metadata": {},
   "outputs": [],
   "source": [
    "models = tf.keras.models\n",
    "layers = tf.keras.layers\n",
    "initializers = tf.keras.initializers\n",
    "regularizers = tf.keras.regularizers\n",
    "losses = tf.keras.losses\n",
    "optimizers = tf.keras.optimizers \n",
    "metrics = tf.keras.metrics"
   ]
  },
  {
   "cell_type": "code",
   "execution_count": 14,
   "metadata": {},
   "outputs": [],
   "source": [
    "def residual_block(input_tensor, filters, stage, reg=0.0, use_shortcuts=True):\n",
    "\n",
    "    bn_name = 'bn' + str(stage)\n",
    "    conv_name = 'conv' + str(stage)\n",
    "    relu_name = 'relu' + str(stage)\n",
    "    merge_name = 'merge' + str(stage)\n",
    "\n",
    "    # 1x1 conv\n",
    "    # batchnorm-relu-conv\n",
    "    # from input_filters to bottleneck_filters\n",
    "    \n",
    "    if stage>1: # first activation is just after conv1\n",
    "        x = layers.BatchNormalization(name=bn_name+'a')(input_tensor)\n",
    "        x = layers.Activation('relu', name=relu_name+'a')(x)\n",
    "    else:\n",
    "        x = input_tensor\n",
    "\n",
    "    x = layers.Convolution2D(\n",
    "            filters[0], (1,1),\n",
    "            kernel_regularizer=regularizers.l2(reg),\n",
    "            use_bias=False,\n",
    "            name=conv_name+'a'\n",
    "        )(x)\n",
    "\n",
    "    # 3x3 conv\n",
    "    # batchnorm-relu-conv\n",
    "    # from bottleneck_filters to bottleneck_filters\n",
    "    \n",
    "    x = layers.BatchNormalization(name=bn_name+'b')(x)\n",
    "    x = layers.Activation('relu', name=relu_name+'b')(x)\n",
    "    x = layers.Convolution2D(\n",
    "            filters[1], (3,3),\n",
    "            padding='same',\n",
    "            kernel_regularizer=regularizers.l2(reg),\n",
    "            use_bias = False,\n",
    "            name=conv_name+'b'\n",
    "        )(x)\n",
    "\n",
    "    # 1x1 conv\n",
    "    # batchnorm-relu-conv\n",
    "    # from bottleneck_filters  to input_filters\n",
    "    \n",
    "    x = layers.BatchNormalization(name=bn_name+'c')(x)\n",
    "    x = layers.Activation('relu', name=relu_name+'c')(x)\n",
    "    x = layers.Convolution2D(\n",
    "            filters[2], (1,1),\n",
    "            kernel_regularizer=regularizers.l2(reg),\n",
    "            name=conv_name+'c'\n",
    "        )(x)\n",
    "\n",
    "    # merge output with input layer (residual connection)\n",
    "    \n",
    "    if use_shortcuts:\n",
    "        x = layers.add([x, input_tensor], name=merge_name)\n",
    "\n",
    "    return x"
   ]
  },
  {
   "cell_type": "markdown",
   "metadata": {},
   "source": [
    "- Full Residual Network"
   ]
  },
  {
   "cell_type": "code",
   "execution_count": 15,
   "metadata": {},
   "outputs": [],
   "source": [
    "def ResNetPreAct(input_shape=(32,32,3), nb_classes=5, num_stages=5,\n",
    "                 use_final_conv=False, reg=0.0):\n",
    "\n",
    "\n",
    "    # Input\n",
    "    img_input = layers.Input(shape=input_shape)\n",
    "\n",
    "    #### Input stream ####\n",
    "    # conv-BN-relu-(pool)\n",
    "    \n",
    "    x = layers.Convolution2D(\n",
    "            128, (3,3), strides=(2, 2),\n",
    "            padding='same',\n",
    "            kernel_regularizer=regularizers.l2(reg),\n",
    "            use_bias=False,\n",
    "            name='conv0'\n",
    "        )(img_input)\n",
    "    x = layers.BatchNormalization(name='bn0')(x)\n",
    "    x = layers.Activation('relu', name='relu0')(x)\n",
    "#     x = layers.MaxPooling2D((3, 3), strides=(2, 2), padding='same', name='pool0')(x)\n",
    "\n",
    "    #### Residual Blocks ####\n",
    "    # 1x1 conv: batchnorm-relu-conv\n",
    "    # 3x3 conv: batchnorm-relu-conv\n",
    "    # 1x1 conv: batchnorm-relu-conv\n",
    "    \n",
    "    for stage in range(1,num_stages+1):\n",
    "        x = residual_block(x, [32,32,128], stage=stage, reg=reg)\n",
    "\n",
    "\n",
    "    #### Output stream ####\n",
    "    # BN-relu-(conv)-avgPool-softmax\n",
    "    \n",
    "    x = layers.BatchNormalization(name='bnF')(x)\n",
    "    x = layers.Activation('relu', name='reluF')(x)\n",
    "\n",
    "    # Optional final conv layer\n",
    "    if use_final_conv:\n",
    "        x = layers.Convolution2D(\n",
    "                64, (3,3),\n",
    "                padding='same',\n",
    "                kernel_regularizer=regularizers.l2(reg),\n",
    "                name='convF'\n",
    "            )(x)\n",
    "\n",
    "    pool_size = input_shape[0] / 2\n",
    "    x = layers.AveragePooling2D((pool_size,pool_size),name='avg_pool')(x)\n",
    "\n",
    "    x = layers.Flatten(name='flat')(x)\n",
    "    x = layers.Dense(nb_classes, activation='softmax', name='fc10')(x)\n",
    "\n",
    "    return models.Model(img_input, x, name='rnpa')"
   ]
  },
  {
   "cell_type": "markdown",
   "metadata": {},
   "source": [
    "- Architecture"
   ]
  },
  {
   "cell_type": "code",
   "execution_count": 23,
   "metadata": {},
   "outputs": [
    {
     "name": "stdout",
     "output_type": "stream",
     "text": [
      "Model: \"rnpa\"\n",
      "__________________________________________________________________________________________________\n",
      "Layer (type)                    Output Shape         Param #     Connected to                     \n",
      "==================================================================================================\n",
      "input_5 (InputLayer)            [(None, 32, 32, 3)]  0                                            \n",
      "__________________________________________________________________________________________________\n",
      "conv0 (Conv2D)                  (None, 16, 16, 128)  3456        input_5[0][0]                    \n",
      "__________________________________________________________________________________________________\n",
      "bn0 (BatchNormalization)        (None, 16, 16, 128)  512         conv0[0][0]                      \n",
      "__________________________________________________________________________________________________\n",
      "relu0 (Activation)              (None, 16, 16, 128)  0           bn0[0][0]                        \n",
      "__________________________________________________________________________________________________\n",
      "conv1a (Conv2D)                 (None, 16, 16, 32)   4096        relu0[0][0]                      \n",
      "__________________________________________________________________________________________________\n",
      "bn1b (BatchNormalization)       (None, 16, 16, 32)   128         conv1a[0][0]                     \n",
      "__________________________________________________________________________________________________\n",
      "relu1b (Activation)             (None, 16, 16, 32)   0           bn1b[0][0]                       \n",
      "__________________________________________________________________________________________________\n",
      "conv1b (Conv2D)                 (None, 16, 16, 32)   9216        relu1b[0][0]                     \n",
      "__________________________________________________________________________________________________\n",
      "bn1c (BatchNormalization)       (None, 16, 16, 32)   128         conv1b[0][0]                     \n",
      "__________________________________________________________________________________________________\n",
      "relu1c (Activation)             (None, 16, 16, 32)   0           bn1c[0][0]                       \n",
      "__________________________________________________________________________________________________\n",
      "conv1c (Conv2D)                 (None, 16, 16, 128)  4224        relu1c[0][0]                     \n",
      "__________________________________________________________________________________________________\n",
      "merge1 (Add)                    (None, 16, 16, 128)  0           conv1c[0][0]                     \n",
      "                                                                 relu0[0][0]                      \n",
      "__________________________________________________________________________________________________\n",
      "bn2a (BatchNormalization)       (None, 16, 16, 128)  512         merge1[0][0]                     \n",
      "__________________________________________________________________________________________________\n",
      "relu2a (Activation)             (None, 16, 16, 128)  0           bn2a[0][0]                       \n",
      "__________________________________________________________________________________________________\n",
      "conv2a (Conv2D)                 (None, 16, 16, 32)   4096        relu2a[0][0]                     \n",
      "__________________________________________________________________________________________________\n",
      "bn2b (BatchNormalization)       (None, 16, 16, 32)   128         conv2a[0][0]                     \n",
      "__________________________________________________________________________________________________\n",
      "relu2b (Activation)             (None, 16, 16, 32)   0           bn2b[0][0]                       \n",
      "__________________________________________________________________________________________________\n",
      "conv2b (Conv2D)                 (None, 16, 16, 32)   9216        relu2b[0][0]                     \n",
      "__________________________________________________________________________________________________\n",
      "bn2c (BatchNormalization)       (None, 16, 16, 32)   128         conv2b[0][0]                     \n",
      "__________________________________________________________________________________________________\n",
      "relu2c (Activation)             (None, 16, 16, 32)   0           bn2c[0][0]                       \n",
      "__________________________________________________________________________________________________\n",
      "conv2c (Conv2D)                 (None, 16, 16, 128)  4224        relu2c[0][0]                     \n",
      "__________________________________________________________________________________________________\n",
      "merge2 (Add)                    (None, 16, 16, 128)  0           conv2c[0][0]                     \n",
      "                                                                 merge1[0][0]                     \n",
      "__________________________________________________________________________________________________\n",
      "bn3a (BatchNormalization)       (None, 16, 16, 128)  512         merge2[0][0]                     \n",
      "__________________________________________________________________________________________________\n",
      "relu3a (Activation)             (None, 16, 16, 128)  0           bn3a[0][0]                       \n",
      "__________________________________________________________________________________________________\n",
      "conv3a (Conv2D)                 (None, 16, 16, 32)   4096        relu3a[0][0]                     \n",
      "__________________________________________________________________________________________________\n",
      "bn3b (BatchNormalization)       (None, 16, 16, 32)   128         conv3a[0][0]                     \n",
      "__________________________________________________________________________________________________\n",
      "relu3b (Activation)             (None, 16, 16, 32)   0           bn3b[0][0]                       \n",
      "__________________________________________________________________________________________________\n",
      "conv3b (Conv2D)                 (None, 16, 16, 32)   9216        relu3b[0][0]                     \n",
      "__________________________________________________________________________________________________\n",
      "bn3c (BatchNormalization)       (None, 16, 16, 32)   128         conv3b[0][0]                     \n",
      "__________________________________________________________________________________________________\n",
      "relu3c (Activation)             (None, 16, 16, 32)   0           bn3c[0][0]                       \n",
      "__________________________________________________________________________________________________\n",
      "conv3c (Conv2D)                 (None, 16, 16, 128)  4224        relu3c[0][0]                     \n",
      "__________________________________________________________________________________________________\n",
      "merge3 (Add)                    (None, 16, 16, 128)  0           conv3c[0][0]                     \n",
      "                                                                 merge2[0][0]                     \n",
      "__________________________________________________________________________________________________\n",
      "bn4a (BatchNormalization)       (None, 16, 16, 128)  512         merge3[0][0]                     \n",
      "__________________________________________________________________________________________________\n",
      "relu4a (Activation)             (None, 16, 16, 128)  0           bn4a[0][0]                       \n",
      "__________________________________________________________________________________________________\n",
      "conv4a (Conv2D)                 (None, 16, 16, 32)   4096        relu4a[0][0]                     \n",
      "__________________________________________________________________________________________________\n",
      "bn4b (BatchNormalization)       (None, 16, 16, 32)   128         conv4a[0][0]                     \n",
      "__________________________________________________________________________________________________\n",
      "relu4b (Activation)             (None, 16, 16, 32)   0           bn4b[0][0]                       \n",
      "__________________________________________________________________________________________________\n",
      "conv4b (Conv2D)                 (None, 16, 16, 32)   9216        relu4b[0][0]                     \n",
      "__________________________________________________________________________________________________\n",
      "bn4c (BatchNormalization)       (None, 16, 16, 32)   128         conv4b[0][0]                     \n",
      "__________________________________________________________________________________________________\n",
      "relu4c (Activation)             (None, 16, 16, 32)   0           bn4c[0][0]                       \n",
      "__________________________________________________________________________________________________\n",
      "conv4c (Conv2D)                 (None, 16, 16, 128)  4224        relu4c[0][0]                     \n",
      "__________________________________________________________________________________________________\n",
      "merge4 (Add)                    (None, 16, 16, 128)  0           conv4c[0][0]                     \n",
      "                                                                 merge3[0][0]                     \n",
      "__________________________________________________________________________________________________\n",
      "bn5a (BatchNormalization)       (None, 16, 16, 128)  512         merge4[0][0]                     \n",
      "__________________________________________________________________________________________________\n",
      "relu5a (Activation)             (None, 16, 16, 128)  0           bn5a[0][0]                       \n",
      "__________________________________________________________________________________________________\n",
      "conv5a (Conv2D)                 (None, 16, 16, 32)   4096        relu5a[0][0]                     \n",
      "__________________________________________________________________________________________________\n",
      "bn5b (BatchNormalization)       (None, 16, 16, 32)   128         conv5a[0][0]                     \n",
      "__________________________________________________________________________________________________\n",
      "relu5b (Activation)             (None, 16, 16, 32)   0           bn5b[0][0]                       \n",
      "__________________________________________________________________________________________________\n",
      "conv5b (Conv2D)                 (None, 16, 16, 32)   9216        relu5b[0][0]                     \n",
      "__________________________________________________________________________________________________\n",
      "bn5c (BatchNormalization)       (None, 16, 16, 32)   128         conv5b[0][0]                     \n",
      "__________________________________________________________________________________________________\n",
      "relu5c (Activation)             (None, 16, 16, 32)   0           bn5c[0][0]                       \n",
      "__________________________________________________________________________________________________\n",
      "conv5c (Conv2D)                 (None, 16, 16, 128)  4224        relu5c[0][0]                     \n",
      "__________________________________________________________________________________________________\n",
      "merge5 (Add)                    (None, 16, 16, 128)  0           conv5c[0][0]                     \n",
      "                                                                 merge4[0][0]                     \n",
      "__________________________________________________________________________________________________\n",
      "bnF (BatchNormalization)        (None, 16, 16, 128)  512         merge5[0][0]                     \n",
      "__________________________________________________________________________________________________\n",
      "reluF (Activation)              (None, 16, 16, 128)  0           bnF[0][0]                        \n",
      "__________________________________________________________________________________________________\n",
      "avg_pool (AveragePooling2D)     (None, 1, 1, 128)    0           reluF[0][0]                      \n",
      "__________________________________________________________________________________________________\n",
      "flat (Flatten)                  (None, 128)          0           avg_pool[0][0]                   \n",
      "__________________________________________________________________________________________________\n",
      "fc10 (Dense)                    (None, 5)            645         flat[0][0]                       \n",
      "==================================================================================================\n",
      "Total params: 96,133\n",
      "Trainable params: 93,957\n",
      "Non-trainable params: 2,176\n",
      "__________________________________________________________________________________________________\n"
     ]
    }
   ],
   "source": [
    "model = ResNetPreAct()\n",
    "model.summary()"
   ]
  },
  {
   "cell_type": "markdown",
   "metadata": {},
   "source": [
    "- Training"
   ]
  },
  {
   "cell_type": "code",
   "execution_count": 24,
   "metadata": {},
   "outputs": [],
   "source": [
    "def compile_model(model):\n",
    "\n",
    "    loss = losses.categorical_crossentropy\n",
    "\n",
    "    optimizer = optimizers.Adam(lr=0.0001)\n",
    "\n",
    "    metric = [metrics.categorical_accuracy, metrics.top_k_categorical_accuracy]\n",
    "\n",
    "    model.compile(optimizer, loss, metric)\n",
    "\n",
    "    return model"
   ]
  },
  {
   "cell_type": "code",
   "execution_count": 25,
   "metadata": {},
   "outputs": [],
   "source": [
    "model = ResNetPreAct(input_shape=(32, 32, 3), nb_classes = num_classes , num_stages = 5,\n",
    "                     use_final_conv=False, reg=0.005)\n",
    "\n",
    "model = compile_model(model)"
   ]
  },
  {
   "cell_type": "code",
   "execution_count": 26,
   "metadata": {
    "scrolled": true
   },
   "outputs": [
    {
     "name": "stdout",
     "output_type": "stream",
     "text": [
      "Epoch 1/50\n",
      " 99/100 [============================>.] - ETA: 0s - loss: 5.6817 - categorical_accuracy: 0.1552 - top_k_categorical_accuracy: 0.5770Epoch 1/50\n",
      "100/100 [==============================] - 48s 485ms/step - loss: 5.6779 - categorical_accuracy: 0.1565 - top_k_categorical_accuracy: 0.5790 - val_loss: 5.6303 - val_categorical_accuracy: 0.1266 - val_top_k_categorical_accuracy: 0.4437\n",
      "Epoch 2/50\n",
      " 99/100 [============================>.] - ETA: 0s - loss: 5.1294 - categorical_accuracy: 0.3557 - top_k_categorical_accuracy: 0.7405Epoch 1/50\n",
      "100/100 [==============================] - 34s 340ms/step - loss: 5.1281 - categorical_accuracy: 0.3544 - top_k_categorical_accuracy: 0.7412 - val_loss: 5.4179 - val_categorical_accuracy: 0.1469 - val_top_k_categorical_accuracy: 0.4563\n",
      "Epoch 3/50\n",
      " 99/100 [============================>.] - ETA: 0s - loss: 4.6661 - categorical_accuracy: 0.4389 - top_k_categorical_accuracy: 0.8379Epoch 1/50\n",
      "100/100 [==============================] - 31s 313ms/step - loss: 4.6641 - categorical_accuracy: 0.4395 - top_k_categorical_accuracy: 0.8379 - val_loss: 5.4033 - val_categorical_accuracy: 0.1453 - val_top_k_categorical_accuracy: 0.4469\n",
      "Epoch 4/50\n",
      " 99/100 [============================>.] - ETA: 0s - loss: 4.2820 - categorical_accuracy: 0.5085 - top_k_categorical_accuracy: 0.8996Epoch 1/50\n",
      "100/100 [==============================] - 34s 335ms/step - loss: 4.2805 - categorical_accuracy: 0.5088 - top_k_categorical_accuracy: 0.9000 - val_loss: 5.3962 - val_categorical_accuracy: 0.1469 - val_top_k_categorical_accuracy: 0.4422\n",
      "Epoch 5/50\n",
      " 99/100 [============================>.] - ETA: 0s - loss: 3.9552 - categorical_accuracy: 0.5598 - top_k_categorical_accuracy: 0.9259Epoch 1/50\n",
      "100/100 [==============================] - 34s 336ms/step - loss: 3.9536 - categorical_accuracy: 0.5605 - top_k_categorical_accuracy: 0.9263 - val_loss: 5.3196 - val_categorical_accuracy: 0.1484 - val_top_k_categorical_accuracy: 0.4812\n",
      "Epoch 6/50\n",
      " 99/100 [============================>.] - ETA: 0s - loss: 3.7041 - categorical_accuracy: 0.5830 - top_k_categorical_accuracy: 0.9467Epoch 1/50\n",
      "100/100 [==============================] - 33s 326ms/step - loss: 3.7004 - categorical_accuracy: 0.5844 - top_k_categorical_accuracy: 0.9469 - val_loss: 4.3889 - val_categorical_accuracy: 0.2406 - val_top_k_categorical_accuracy: 0.8000\n",
      "Epoch 7/50\n",
      " 99/100 [============================>.] - ETA: 0s - loss: 3.4643 - categorical_accuracy: 0.6086 - top_k_categorical_accuracy: 0.9652Epoch 1/50\n",
      "100/100 [==============================] - 32s 317ms/step - loss: 3.4635 - categorical_accuracy: 0.6088 - top_k_categorical_accuracy: 0.9653 - val_loss: 3.7789 - val_categorical_accuracy: 0.4578 - val_top_k_categorical_accuracy: 0.8641\n",
      "Epoch 8/50\n",
      " 99/100 [============================>.] - ETA: 0s - loss: 3.2704 - categorical_accuracy: 0.6364 - top_k_categorical_accuracy: 0.9649Epoch 1/50\n",
      "100/100 [==============================] - 36s 356ms/step - loss: 3.2710 - categorical_accuracy: 0.6354 - top_k_categorical_accuracy: 0.9649 - val_loss: 3.2585 - val_categorical_accuracy: 0.6000 - val_top_k_categorical_accuracy: 0.9656\n",
      "Epoch 9/50\n",
      " 99/100 [============================>.] - ETA: 0s - loss: 3.1034 - categorical_accuracy: 0.6639 - top_k_categorical_accuracy: 0.9750Epoch 1/50\n",
      "100/100 [==============================] - 31s 313ms/step - loss: 3.1045 - categorical_accuracy: 0.6629 - top_k_categorical_accuracy: 0.9750 - val_loss: 3.3665 - val_categorical_accuracy: 0.5078 - val_top_k_categorical_accuracy: 0.9359\n",
      "Epoch 10/50\n",
      " 99/100 [============================>.] - ETA: 0s - loss: 2.9507 - categorical_accuracy: 0.6771 - top_k_categorical_accuracy: 0.9719Epoch 1/50\n",
      "100/100 [==============================] - 31s 310ms/step - loss: 2.9515 - categorical_accuracy: 0.6756 - top_k_categorical_accuracy: 0.9712 - val_loss: 3.0415 - val_categorical_accuracy: 0.6625 - val_top_k_categorical_accuracy: 0.9563\n",
      "Epoch 11/50\n",
      " 99/100 [============================>.] - ETA: 0s - loss: 2.8230 - categorical_accuracy: 0.6971 - top_k_categorical_accuracy: 0.9772Epoch 1/50\n",
      "100/100 [==============================] - 31s 310ms/step - loss: 2.8213 - categorical_accuracy: 0.6973 - top_k_categorical_accuracy: 0.9772 - val_loss: 3.1216 - val_categorical_accuracy: 0.5484 - val_top_k_categorical_accuracy: 0.9328\n",
      "Epoch 12/50\n",
      " 99/100 [============================>.] - ETA: 0s - loss: 2.6948 - categorical_accuracy: 0.7126 - top_k_categorical_accuracy: 0.9750Epoch 1/50\n",
      "100/100 [==============================] - 30s 301ms/step - loss: 2.6932 - categorical_accuracy: 0.7139 - top_k_categorical_accuracy: 0.9750 - val_loss: 2.9752 - val_categorical_accuracy: 0.5984 - val_top_k_categorical_accuracy: 0.9078\n",
      "Epoch 13/50\n",
      " 99/100 [============================>.] - ETA: 0s - loss: 2.5986 - categorical_accuracy: 0.7193 - top_k_categorical_accuracy: 0.9798Epoch 1/50\n",
      "100/100 [==============================] - 30s 303ms/step - loss: 2.6006 - categorical_accuracy: 0.7177 - top_k_categorical_accuracy: 0.9800 - val_loss: 2.9931 - val_categorical_accuracy: 0.5703 - val_top_k_categorical_accuracy: 0.9422\n",
      "Epoch 14/50\n",
      " 99/100 [============================>.] - ETA: 0s - loss: 2.4888 - categorical_accuracy: 0.7336 - top_k_categorical_accuracy: 0.9814Epoch 1/50\n",
      "100/100 [==============================] - 34s 335ms/step - loss: 2.4899 - categorical_accuracy: 0.7325 - top_k_categorical_accuracy: 0.9812 - val_loss: 2.7131 - val_categorical_accuracy: 0.6125 - val_top_k_categorical_accuracy: 0.9656\n",
      "Epoch 15/50\n",
      " 99/100 [============================>.] - ETA: 0s - loss: 2.4087 - categorical_accuracy: 0.7316 - top_k_categorical_accuracy: 0.9836Epoch 1/50\n",
      "100/100 [==============================] - 33s 330ms/step - loss: 2.4098 - categorical_accuracy: 0.7311 - top_k_categorical_accuracy: 0.9834 - val_loss: 2.5662 - val_categorical_accuracy: 0.7016 - val_top_k_categorical_accuracy: 0.9672\n",
      "Epoch 16/50\n",
      " 99/100 [============================>.] - ETA: 0s - loss: 2.3159 - categorical_accuracy: 0.7518 - top_k_categorical_accuracy: 0.9848Epoch 1/50\n",
      "100/100 [==============================] - 32s 320ms/step - loss: 2.3166 - categorical_accuracy: 0.7515 - top_k_categorical_accuracy: 0.9850 - val_loss: 2.3594 - val_categorical_accuracy: 0.7609 - val_top_k_categorical_accuracy: 0.9781\n",
      "Epoch 17/50\n",
      " 99/100 [============================>.] - ETA: 0s - loss: 2.2396 - categorical_accuracy: 0.7594 - top_k_categorical_accuracy: 0.9870Epoch 1/50\n",
      "100/100 [==============================] - 32s 323ms/step - loss: 2.2387 - categorical_accuracy: 0.7593 - top_k_categorical_accuracy: 0.9872 - val_loss: 2.2584 - val_categorical_accuracy: 0.7703 - val_top_k_categorical_accuracy: 0.9844\n",
      "Epoch 18/50\n",
      " 99/100 [============================>.] - ETA: 0s - loss: 2.1844 - categorical_accuracy: 0.7600 - top_k_categorical_accuracy: 0.9867Epoch 1/50\n",
      "100/100 [==============================] - 32s 316ms/step - loss: 2.1844 - categorical_accuracy: 0.7596 - top_k_categorical_accuracy: 0.9868 - val_loss: 2.8640 - val_categorical_accuracy: 0.5578 - val_top_k_categorical_accuracy: 0.9312\n",
      "Epoch 19/50\n",
      " 99/100 [============================>.] - ETA: 0s - loss: 2.1160 - categorical_accuracy: 0.7686 - top_k_categorical_accuracy: 0.9867Epoch 1/50\n",
      "100/100 [==============================] - 32s 324ms/step - loss: 2.1192 - categorical_accuracy: 0.7672 - top_k_categorical_accuracy: 0.9862 - val_loss: 2.3141 - val_categorical_accuracy: 0.7094 - val_top_k_categorical_accuracy: 0.9703\n",
      "Epoch 20/50\n",
      " 99/100 [============================>.] - ETA: 0s - loss: 2.0432 - categorical_accuracy: 0.7856 - top_k_categorical_accuracy: 0.9899Epoch 1/50\n",
      "100/100 [==============================] - 33s 330ms/step - loss: 2.0428 - categorical_accuracy: 0.7853 - top_k_categorical_accuracy: 0.9900 - val_loss: 2.2990 - val_categorical_accuracy: 0.7000 - val_top_k_categorical_accuracy: 0.9703\n",
      "Epoch 21/50\n",
      " 99/100 [============================>.] - ETA: 0s - loss: 1.9955 - categorical_accuracy: 0.7866 - top_k_categorical_accuracy: 0.9899Epoch 1/50\n",
      "100/100 [==============================] - 33s 326ms/step - loss: 1.9938 - categorical_accuracy: 0.7875 - top_k_categorical_accuracy: 0.9900 - val_loss: 2.1630 - val_categorical_accuracy: 0.7391 - val_top_k_categorical_accuracy: 0.9734\n"
     ]
    },
    {
     "name": "stdout",
     "output_type": "stream",
     "text": [
      "Epoch 22/50\n",
      " 99/100 [============================>.] - ETA: 0s - loss: 1.9462 - categorical_accuracy: 0.7951 - top_k_categorical_accuracy: 0.9905Epoch 1/50\n",
      "100/100 [==============================] - 32s 322ms/step - loss: 1.9477 - categorical_accuracy: 0.7947 - top_k_categorical_accuracy: 0.9897 - val_loss: 2.4156 - val_categorical_accuracy: 0.6375 - val_top_k_categorical_accuracy: 0.9656\n",
      "Epoch 23/50\n",
      " 99/100 [============================>.] - ETA: 0s - loss: 1.9160 - categorical_accuracy: 0.7926 - top_k_categorical_accuracy: 0.9886Epoch 1/50\n",
      "100/100 [==============================] - 32s 322ms/step - loss: 1.9147 - categorical_accuracy: 0.7934 - top_k_categorical_accuracy: 0.9887 - val_loss: 2.2883 - val_categorical_accuracy: 0.6547 - val_top_k_categorical_accuracy: 0.9672\n",
      "Epoch 24/50\n",
      " 99/100 [============================>.] - ETA: 0s - loss: 1.8627 - categorical_accuracy: 0.8030 - top_k_categorical_accuracy: 0.9924Epoch 1/50\n",
      "100/100 [==============================] - 32s 320ms/step - loss: 1.8633 - categorical_accuracy: 0.8019 - top_k_categorical_accuracy: 0.9925 - val_loss: 2.0346 - val_categorical_accuracy: 0.7422 - val_top_k_categorical_accuracy: 0.9766\n",
      "Epoch 25/50\n",
      " 99/100 [============================>.] - ETA: 0s - loss: 1.8050 - categorical_accuracy: 0.8135 - top_k_categorical_accuracy: 0.9915Epoch 1/50\n",
      "100/100 [==============================] - 32s 322ms/step - loss: 1.8050 - categorical_accuracy: 0.8131 - top_k_categorical_accuracy: 0.9915 - val_loss: 2.1141 - val_categorical_accuracy: 0.7094 - val_top_k_categorical_accuracy: 0.9547\n",
      "Epoch 26/50\n",
      " 99/100 [============================>.] - ETA: 0s - loss: 1.7731 - categorical_accuracy: 0.8160 - top_k_categorical_accuracy: 0.9934Epoch 1/50\n",
      "100/100 [==============================] - 32s 324ms/step - loss: 1.7734 - categorical_accuracy: 0.8163 - top_k_categorical_accuracy: 0.9928 - val_loss: 1.8587 - val_categorical_accuracy: 0.7922 - val_top_k_categorical_accuracy: 0.9797\n",
      "Epoch 27/50\n",
      " 99/100 [============================>.] - ETA: 0s - loss: 1.7303 - categorical_accuracy: 0.8271 - top_k_categorical_accuracy: 0.9934Epoch 1/50\n",
      "100/100 [==============================] - 34s 336ms/step - loss: 1.7318 - categorical_accuracy: 0.8257 - top_k_categorical_accuracy: 0.9934 - val_loss: 1.9027 - val_categorical_accuracy: 0.7719 - val_top_k_categorical_accuracy: 0.9781\n",
      "Epoch 28/50\n",
      " 99/100 [============================>.] - ETA: 0s - loss: 1.6954 - categorical_accuracy: 0.8252 - top_k_categorical_accuracy: 0.9943Epoch 1/50\n",
      "100/100 [==============================] - 33s 326ms/step - loss: 1.6946 - categorical_accuracy: 0.8254 - top_k_categorical_accuracy: 0.9944 - val_loss: 2.2253 - val_categorical_accuracy: 0.6453 - val_top_k_categorical_accuracy: 0.9484\n",
      "Epoch 29/50\n",
      " 99/100 [============================>.] - ETA: 0s - loss: 1.6728 - categorical_accuracy: 0.8239 - top_k_categorical_accuracy: 0.9949Epoch 1/50\n",
      "100/100 [==============================] - 29s 293ms/step - loss: 1.6709 - categorical_accuracy: 0.8247 - top_k_categorical_accuracy: 0.9950 - val_loss: 2.0841 - val_categorical_accuracy: 0.6781 - val_top_k_categorical_accuracy: 0.9688\n",
      "Epoch 30/50\n",
      " 99/100 [============================>.] - ETA: 0s - loss: 1.6333 - categorical_accuracy: 0.8333 - top_k_categorical_accuracy: 0.9918Epoch 1/50\n",
      "100/100 [==============================] - 34s 342ms/step - loss: 1.6351 - categorical_accuracy: 0.8331 - top_k_categorical_accuracy: 0.9919 - val_loss: 2.0338 - val_categorical_accuracy: 0.7016 - val_top_k_categorical_accuracy: 0.9750\n",
      "Epoch 31/50\n",
      " 99/100 [============================>.] - ETA: 0s - loss: 1.5962 - categorical_accuracy: 0.8347 - top_k_categorical_accuracy: 0.9956Epoch 1/50\n",
      "100/100 [==============================] - 31s 307ms/step - loss: 1.5973 - categorical_accuracy: 0.8335 - top_k_categorical_accuracy: 0.9956 - val_loss: 2.1462 - val_categorical_accuracy: 0.6500 - val_top_k_categorical_accuracy: 0.9484\n",
      "Epoch 32/50\n",
      " 99/100 [============================>.] - ETA: 0s - loss: 1.5859 - categorical_accuracy: 0.8315 - top_k_categorical_accuracy: 0.9943Epoch 1/50\n",
      "100/100 [==============================] - 32s 319ms/step - loss: 1.5874 - categorical_accuracy: 0.8313 - top_k_categorical_accuracy: 0.9944 - val_loss: 2.0226 - val_categorical_accuracy: 0.6625 - val_top_k_categorical_accuracy: 0.9547\n",
      "Epoch 33/50\n",
      " 99/100 [============================>.] - ETA: 0s - loss: 1.5413 - categorical_accuracy: 0.8435 - top_k_categorical_accuracy: 0.9949Epoch 1/50\n",
      "100/100 [==============================] - 32s 318ms/step - loss: 1.5409 - categorical_accuracy: 0.8448 - top_k_categorical_accuracy: 0.9947 - val_loss: 2.4892 - val_categorical_accuracy: 0.5969 - val_top_k_categorical_accuracy: 0.9500\n",
      "Epoch 34/50\n",
      " 99/100 [============================>.] - ETA: 0s - loss: 1.5194 - categorical_accuracy: 0.8429 - top_k_categorical_accuracy: 0.9953Epoch 1/50\n",
      "100/100 [==============================] - 30s 298ms/step - loss: 1.5208 - categorical_accuracy: 0.8423 - top_k_categorical_accuracy: 0.9953 - val_loss: 2.1236 - val_categorical_accuracy: 0.6297 - val_top_k_categorical_accuracy: 0.9531\n",
      "Epoch 35/50\n",
      " 99/100 [============================>.] - ETA: 0s - loss: 1.4769 - categorical_accuracy: 0.8583 - top_k_categorical_accuracy: 0.9946Epoch 1/50\n",
      "100/100 [==============================] - ETA: 9s - loss: 1.6420 - categorical_accuracy: 0.8250 - top_k_categorical_accuracy: 0.987 - 30s 303ms/step - loss: 1.4773 - categorical_accuracy: 0.8575 - top_k_categorical_accuracy: 0.9947 - val_loss: 1.6420 - val_categorical_accuracy: 0.8250 - val_top_k_categorical_accuracy: 0.9875\n",
      "Epoch 36/50\n",
      " 99/100 [============================>.] - ETA: 0s - loss: 1.4806 - categorical_accuracy: 0.8426 - top_k_categorical_accuracy: 0.9949Epoch 1/50\n",
      "100/100 [==============================] - 31s 307ms/step - loss: 1.4803 - categorical_accuracy: 0.8429 - top_k_categorical_accuracy: 0.9950 - val_loss: 1.7860 - val_categorical_accuracy: 0.7469 - val_top_k_categorical_accuracy: 0.9781\n",
      "Epoch 37/50\n",
      " 99/100 [============================>.] - ETA: 0s - loss: 1.4567 - categorical_accuracy: 0.8514 - top_k_categorical_accuracy: 0.9953Epoch 1/50\n",
      "100/100 [==============================] - 32s 321ms/step - loss: 1.4570 - categorical_accuracy: 0.8507 - top_k_categorical_accuracy: 0.9953 - val_loss: 1.9161 - val_categorical_accuracy: 0.7219 - val_top_k_categorical_accuracy: 0.9656\n",
      "Epoch 38/50\n",
      " 99/100 [============================>.] - ETA: 0s - loss: 1.4235 - categorical_accuracy: 0.8612 - top_k_categorical_accuracy: 0.9946Epoch 1/50\n",
      "100/100 [==============================] - 32s 322ms/step - loss: 1.4225 - categorical_accuracy: 0.8610 - top_k_categorical_accuracy: 0.9947 - val_loss: 1.5513 - val_categorical_accuracy: 0.8156 - val_top_k_categorical_accuracy: 0.9875\n",
      "Epoch 39/50\n",
      " 99/100 [============================>.] - ETA: 0s - loss: 1.3831 - categorical_accuracy: 0.8675 - top_k_categorical_accuracy: 0.9965Epoch 1/50\n",
      "100/100 [==============================] - 33s 328ms/step - loss: 1.3824 - categorical_accuracy: 0.8679 - top_k_categorical_accuracy: 0.9966 - val_loss: 2.0106 - val_categorical_accuracy: 0.6719 - val_top_k_categorical_accuracy: 0.9719\n",
      "Epoch 40/50\n",
      " 99/100 [============================>.] - ETA: 0s - loss: 1.3951 - categorical_accuracy: 0.8565 - top_k_categorical_accuracy: 0.9946Epoch 1/50\n",
      "100/100 [==============================] - 31s 314ms/step - loss: 1.3936 - categorical_accuracy: 0.8573 - top_k_categorical_accuracy: 0.9947 - val_loss: 2.0286 - val_categorical_accuracy: 0.6922 - val_top_k_categorical_accuracy: 0.9656\n",
      "Epoch 41/50\n",
      " 99/100 [============================>.] - ETA: 0s - loss: 1.3467 - categorical_accuracy: 0.8759 - top_k_categorical_accuracy: 0.9959Epoch 1/50\n",
      "100/100 [==============================] - 32s 322ms/step - loss: 1.3482 - categorical_accuracy: 0.8756 - top_k_categorical_accuracy: 0.9959 - val_loss: 1.6074 - val_categorical_accuracy: 0.8016 - val_top_k_categorical_accuracy: 0.9844\n",
      "Epoch 42/50\n",
      " 99/100 [============================>.] - ETA: 0s - loss: 1.3364 - categorical_accuracy: 0.8720 - top_k_categorical_accuracy: 0.9953Epoch 1/50\n",
      "100/100 [==============================] - 32s 317ms/step - loss: 1.3352 - categorical_accuracy: 0.8723 - top_k_categorical_accuracy: 0.9953 - val_loss: 1.4854 - val_categorical_accuracy: 0.8297 - val_top_k_categorical_accuracy: 0.9875\n",
      "Epoch 43/50\n",
      " 99/100 [============================>.] - ETA: 0s - loss: 1.3214 - categorical_accuracy: 0.8705 - top_k_categorical_accuracy: 0.9956Epoch 1/50\n",
      "100/100 [==============================] - 32s 315ms/step - loss: 1.3225 - categorical_accuracy: 0.8702 - top_k_categorical_accuracy: 0.9956 - val_loss: 2.0391 - val_categorical_accuracy: 0.6641 - val_top_k_categorical_accuracy: 0.9766\n",
      "Epoch 44/50\n",
      " 99/100 [============================>.] - ETA: 0s - loss: 1.2902 - categorical_accuracy: 0.8829 - top_k_categorical_accuracy: 0.9972Epoch 1/50\n",
      "100/100 [==============================] - 31s 309ms/step - loss: 1.2911 - categorical_accuracy: 0.8822 - top_k_categorical_accuracy: 0.9972 - val_loss: 1.7387 - val_categorical_accuracy: 0.7391 - val_top_k_categorical_accuracy: 0.9734\n",
      "Epoch 45/50\n",
      " 99/100 [============================>.] - ETA: 0s - loss: 1.2647 - categorical_accuracy: 0.8903 - top_k_categorical_accuracy: 0.9965Epoch 1/50\n",
      "100/100 [==============================] - 33s 330ms/step - loss: 1.2649 - categorical_accuracy: 0.8905 - top_k_categorical_accuracy: 0.9966 - val_loss: 2.1134 - val_categorical_accuracy: 0.6234 - val_top_k_categorical_accuracy: 0.9422\n",
      "Epoch 46/50\n",
      " 99/100 [============================>.] - ETA: 0s - loss: 1.2816 - categorical_accuracy: 0.8731 - top_k_categorical_accuracy: 0.9959Epoch 1/50\n",
      "100/100 [==============================] - 32s 323ms/step - loss: 1.2803 - categorical_accuracy: 0.8737 - top_k_categorical_accuracy: 0.9959 - val_loss: 2.7525 - val_categorical_accuracy: 0.5078 - val_top_k_categorical_accuracy: 0.9484\n",
      "Epoch 47/50\n",
      " 99/100 [============================>.] - ETA: 0s - loss: 1.2453 - categorical_accuracy: 0.8868 - top_k_categorical_accuracy: 0.9968Epoch 1/50\n",
      "100/100 [==============================] - 31s 314ms/step - loss: 1.2452 - categorical_accuracy: 0.8870 - top_k_categorical_accuracy: 0.9966 - val_loss: 1.6304 - val_categorical_accuracy: 0.7734 - val_top_k_categorical_accuracy: 0.9703\n",
      "Epoch 48/50\n",
      " 99/100 [============================>.] - ETA: 0s - loss: 1.2428 - categorical_accuracy: 0.8773 - top_k_categorical_accuracy: 0.9962Epoch 1/50\n",
      "100/100 [==============================] - 32s 316ms/step - loss: 1.2431 - categorical_accuracy: 0.8770 - top_k_categorical_accuracy: 0.9962 - val_loss: 1.5560 - val_categorical_accuracy: 0.7906 - val_top_k_categorical_accuracy: 0.9797\n",
      "Epoch 49/50\n",
      " 99/100 [============================>.] - ETA: 0s - loss: 1.2111 - categorical_accuracy: 0.8900 - top_k_categorical_accuracy: 0.9962Epoch 1/50\n",
      "100/100 [==============================] - 31s 305ms/step - loss: 1.2107 - categorical_accuracy: 0.8901 - top_k_categorical_accuracy: 0.9962 - val_loss: 1.6870 - val_categorical_accuracy: 0.7578 - val_top_k_categorical_accuracy: 0.9500\n",
      "Epoch 50/50\n",
      " 99/100 [============================>.] - ETA: 0s - loss: 1.2005 - categorical_accuracy: 0.8871 - top_k_categorical_accuracy: 0.9978Epoch 1/50\n",
      "100/100 [==============================] - 31s 308ms/step - loss: 1.1988 - categorical_accuracy: 0.8879 - top_k_categorical_accuracy: 0.9978 - val_loss: 1.3490 - val_categorical_accuracy: 0.8406 - val_top_k_categorical_accuracy: 0.9859\n",
      "Wall time: 26min 56s\n"
     ]
    }
   ],
   "source": [
    "%%time\n",
    "hist50 = model.fit_generator(\n",
    "    train_generator,\n",
    "    steps_per_epoch=3803//batch_size,\n",
    "    epochs=50,\n",
    "    validation_data=validation_generator,\n",
    "    validation_steps=20)"
   ]
  },
  {
   "cell_type": "markdown",
   "metadata": {},
   "source": [
    "## 4. Accuracy and Loss Analysis"
   ]
  },
  {
   "cell_type": "code",
   "execution_count": 27,
   "metadata": {},
   "outputs": [],
   "source": [
    "def plot_accuracy_and_loss(history):\n",
    "    plt.figure(1, figsize= (15, 10))\n",
    "\n",
    "    # plot train and test accuracy\n",
    "    plt.subplot(221)\n",
    "    plt.plot(history.history['categorical_accuracy'])\n",
    "    plt.plot(history.history['val_categorical_accuracy'])\n",
    "    plt.title('SqueezeNet accuracy')\n",
    "    plt.ylabel('accuracy')\n",
    "    plt.xlabel('epoch')\n",
    "    plt.legend(['train', 'test'], loc='upper left')\n",
    "\n",
    "    # plot train and test loss\n",
    "    plt.subplot(222)\n",
    "    plt.plot(history.history['loss'])\n",
    "    plt.plot(history.history['val_loss'])\n",
    "    plt.title('SqueezeNet loss')\n",
    "    plt.ylabel('loss')\n",
    "    plt.xlabel('epoch')\n",
    "    plt.legend(['train', 'test'], loc='upper right')\n",
    "\n",
    "    plt.show()"
   ]
  },
  {
   "cell_type": "code",
   "execution_count": 28,
   "metadata": {},
   "outputs": [
    {
     "data": {
      "image/png": "[encoded data removed]",
      "text/plain": [
       "<Figure size 1080x720 with 2 Axes>"
      ]
     },
     "metadata": {
      "needs_background": "light"
     },
     "output_type": "display_data"
    }
   ],
   "source": [
    "plot_accuracy_and_loss(hist50)"
   ]
  },
  {
   "cell_type": "code",
   "execution_count": 34,
   "metadata": {},
   "outputs": [
    {
     "name": "stdout",
     "output_type": "stream",
     "text": [
      "-- Evaluate --\n",
      "Train categorical_accuracy: 86.25%\n",
      "Val categorical_accuracy: 80.00%\n",
      "-- Predict --\n",
      "{'Black-grass': 0, 'Charlock': 1, 'Cleavers': 2, 'Common Chickweed': 3, 'Common wheat': 4, 'Fat Hen': 5, 'Loose Silky-bent': 6, 'Maize': 7, 'Scentless Mayweed': 8, 'Shepherds Purse': 9, 'Small-flowered Cranesbill': 10, 'Sugar beet': 11}\n",
      "[[0.000 0.016 0.007 ... 0.031 0.037 0.727]\n",
      " [0.012 0.003 0.005 ... 0.126 0.006 0.013]\n",
      " [0.024 0.000 0.000 ... 0.000 0.000 0.000]\n",
      " ...\n",
      " [0.000 0.001 0.000 ... 0.387 0.003 0.000]\n",
      " [0.604 0.000 0.002 ... 0.000 0.000 0.002]\n",
      " [0.000 0.957 0.020 ... 0.005 0.005 0.000]]\n",
      "{'Black-grass': 0, 'Charlock': 1, 'Cleavers': 2, 'Common Chickweed': 3, 'Common wheat': 4, 'Fat Hen': 5, 'Loose Silky-bent': 6, 'Maize': 7, 'Scentless Mayweed': 8, 'Shepherds Purse': 9, 'Small-flowered Cranesbill': 10, 'Sugar beet': 11}\n",
      "[[0.000 0.000 0.000 ... 0.000 0.000 0.000]\n",
      " [0.001 0.025 0.521 ... 0.012 0.412 0.002]\n",
      " [0.200 0.000 0.004 ... 0.002 0.000 0.007]\n",
      " ...\n",
      " [0.112 0.000 0.008 ... 0.000 0.000 0.004]\n",
      " [0.001 0.000 0.000 ... 0.000 0.001 0.001]\n",
      " [0.239 0.000 0.000 ... 0.000 0.000 0.000]]\n"
     ]
    }
   ],
   "source": [
    "print(\"-- Evaluate --\")\n",
    "\n",
    "scores_train = model.evaluate_generator(\n",
    "            train_generator, \n",
    "            steps = 5)\n",
    "scores_val = model.evaluate_generator(\n",
    "            validation_generator, \n",
    "            steps = 5)\n",
    "\n",
    "print(\"Train %s: %.2f%%\" %(model.metrics_names[1], scores_train[1]*100))\n",
    "print(\"Val %s: %.2f%%\" %(model.metrics_names[1], scores_val[1]*100))\n",
    "\n",
    "print(\"-- Predict --\")\n",
    "output_train = model.predict_generator(train_generator, steps=5)\n",
    "output_val = model.predict_generator(validation_generator, steps=5)\n",
    "np.set_printoptions(formatter={'float': lambda x: \"{0:0.3f}\".format(x)})\n",
    "\n",
    "print(train_generator.class_indices)\n",
    "print(output_train)\n",
    "\n",
    "print(validation_generator.class_indices)\n",
    "print(output_val)"
   ]
  },
  {
   "cell_type": "markdown",
   "metadata": {},
   "source": [
    "## 5. Save weights and model architecture"
   ]
  },
  {
   "cell_type": "code",
   "execution_count": 35,
   "metadata": {},
   "outputs": [],
   "source": [
    "# save model architecture\n",
    "model_json = model.to_json()\n",
    "open('Resnet_model_with_50iterations.json', 'w').write(model_json)\n",
    "\n",
    "# save model's learned weights\n",
    "model.save_weights('Resnet_weights_with_50iterations.h5', overwrite=True)"
   ]
  },
  {
   "cell_type": "code",
   "execution_count": 37,
   "metadata": {},
   "outputs": [
    {
     "name": "stdout",
     "output_type": "stream",
     "text": [
      "Loaded model from disk\n"
     ]
    }
   ],
   "source": [
    "# Load trained model\n",
    "import tensorflow as tf\n",
    "from tensorflow.keras.models import model_from_json \n",
    "from tensorflow.keras.models import load_model\n",
    "\n",
    "json_file = open(\"Resnet_model_with_50iterations.json\", \"r\")\n",
    "loaded_model_json = json_file.read() \n",
    "json_file.close()\n",
    "loaded_model = model_from_json(loaded_model_json)\n",
    " \n",
    "# model weight load \n",
    "loaded_model.load_weights(\"Resnet_weights_with_50iterations.h5\")\n",
    "print(\"Loaded model from disk\")"
   ]
  },
  {
   "cell_type": "markdown",
   "metadata": {},
   "source": [
    "## 6. Submission"
   ]
  },
  {
   "cell_type": "code",
   "execution_count": 38,
   "metadata": {},
   "outputs": [],
   "source": [
    "z = glob.glob('test/*.png')\n",
    "test_imgs = []\n",
    "names = []\n",
    "for fn in z:\n",
    "    if fn[-3:] != 'png':\n",
    "        continue\n",
    "    names.append(fn.split('test\\\\')[-1])\n",
    "#     print(names)\n",
    "    new_img = Image.open(fn)\n",
    "    test_img = ImageOps.fit(new_img, (32,32), Image.ANTIALIAS).convert('RGB')\n",
    "    test_imgs.append(test_img)"
   ]
  },
  {
   "cell_type": "code",
   "execution_count": 39,
   "metadata": {
    "scrolled": true
   },
   "outputs": [
    {
     "data": {
      "text/plain": [
       "(794, 32, 32, 3)"
      ]
     },
     "execution_count": 39,
     "metadata": {},
     "output_type": "execute_result"
    }
   ],
   "source": [
    "test_img = np.array([np.array(im) for im in test_imgs])\n",
    "test_x = test_img.reshape(test_img.shape[0], 32, 32, 3) / 255\n",
    "\n",
    "test_x.shape"
   ]
  },
  {
   "cell_type": "code",
   "execution_count": 48,
   "metadata": {},
   "outputs": [],
   "source": [
    "lb = LabelBinarizer().fit(names)\n",
    "\n",
    "pred = model.predict(test_x)\n",
    "# print(pred)\n",
    "prediction = lb.inverse_transform(pred)"
   ]
  },
  {
   "cell_type": "code",
   "execution_count": 55,
   "metadata": {},
   "outputs": [
    {
     "data": {
      "text/plain": [
       "(12,)"
      ]
     },
     "execution_count": 55,
     "metadata": {},
     "output_type": "execute_result"
    }
   ],
   "source": [
    "pred[0,:].shape"
   ]
  },
  {
   "cell_type": "code",
   "execution_count": 58,
   "metadata": {},
   "outputs": [],
   "source": [
    "class_pred = []\n",
    "for i in range(len(prediction)) :\n",
    "    class_pred.append(cat_list[np.argmax(pred[i,:])])"
   ]
  },
  {
   "cell_type": "code",
   "execution_count": 61,
   "metadata": {},
   "outputs": [
    {
     "data": {
      "text/plain": [
       "(794,)"
      ]
     },
     "execution_count": 61,
     "metadata": {},
     "output_type": "execute_result"
    }
   ],
   "source": [
    "np.shape(class_pred)"
   ]
  },
  {
   "cell_type": "code",
   "execution_count": 62,
   "metadata": {},
   "outputs": [],
   "source": [
    "df = pd.DataFrame(data={'file': names, 'species': class_pred})\n",
    "df_sort = df.sort_values(by=['file'])\n",
    "df_sort.to_csv('Resnet_with_50iterations.csv', index=False)"
   ]
  }
 ],
 "metadata": {
  "kernelspec": {
   "display_name": "Python 3",
   "language": "python",
   "name": "python3"
  },
  "language_info": {
   "codemirror_mode": {
    "name": "ipython",
    "version": 3
   },
   "file_extension": ".py",
   "mimetype": "text/x-python",
   "name": "python",
   "nbconvert_exporter": "python",
   "pygments_lexer": "ipython3",
   "version": "3.7.7"
  }
 },
 "nbformat": 4,
 "nbformat_minor": 4
}
